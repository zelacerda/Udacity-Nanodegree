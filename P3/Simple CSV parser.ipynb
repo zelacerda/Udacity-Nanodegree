{
 "cells": [
  {
   "cell_type": "code",
   "execution_count": 1,
   "metadata": {
    "collapsed": false
   },
   "outputs": [],
   "source": [
    "import os\n",
    "\n",
    "DATADIR = \"\"\n",
    "DATAFILE = \"beatles-diskography.csv\"\n",
    "\n",
    "\n",
    "def parse_file(datafile):\n",
    "    data = []\n",
    "    result = []\n",
    "    with open(datafile, \"r\") as f:\n",
    "        for line in f:\n",
    "            data.append(line.strip())\n",
    "    header = data[0].split(',')\n",
    "    for line in data[1:11]:\n",
    "        values = line.split(',')\n",
    "        dic = dict()\n",
    "        for i in range(len(header)):\n",
    "            dic[header[i]] = values[i]\n",
    "        result.append(dic)\n",
    "    return result\n",
    "\n",
    "\n",
    "def test():\n",
    "    # a simple test of your implemetation\n",
    "    datafile = os.path.join(DATADIR, DATAFILE)\n",
    "    d = parse_file(datafile)\n",
    "    firstline = {'Title': 'Please Please Me', 'UK Chart Position': '1', 'Label': 'Parlophone(UK)', 'Released': '22 March 1963', 'US Chart Position': '—', 'RIAA Certification': 'Platinum', 'BPI Certification': 'Gold'}\n",
    "    tenthline = {'Title': '', 'UK Chart Position': '1', 'Label': 'Parlophone(UK)', 'Released': '10 July 1964', 'US Chart Position': '—', 'RIAA Certification': '', 'BPI Certification': 'Gold'}\n",
    "\n",
    "    print(d[0])\n",
    "    assert d[0] == firstline\n",
    "    assert d[9] == tenthline"
   ]
  },
  {
   "cell_type": "code",
   "execution_count": 2,
   "metadata": {
    "collapsed": false
   },
   "outputs": [
    {
     "name": "stdout",
     "output_type": "stream",
     "text": [
      "{'RIAA Certification': 'Platinum', 'BPI Certification': 'Gold', 'Label': 'Parlophone(UK)', 'Title': 'Please Please Me', 'UK Chart Position': '1', 'Released': '22 March 1963', 'US Chart Position': '—'}\n"
     ]
    }
   ],
   "source": [
    "test()"
   ]
  }
 ],
 "metadata": {
  "kernelspec": {
   "display_name": "Python [Root]",
   "language": "python",
   "name": "Python [Root]"
  },
  "language_info": {
   "codemirror_mode": {
    "name": "ipython",
    "version": 3
   },
   "file_extension": ".py",
   "mimetype": "text/x-python",
   "name": "python",
   "nbconvert_exporter": "python",
   "pygments_lexer": "ipython3",
   "version": "3.5.2"
  }
 },
 "nbformat": 4,
 "nbformat_minor": 0
}
