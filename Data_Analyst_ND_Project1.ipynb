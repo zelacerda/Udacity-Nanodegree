{
 "cells": [
  {
   "cell_type": "markdown",
   "metadata": {},
   "source": [
    "# Investigação sobre o efeito Stroop\n",
    "### Projeto de análise estatística para o Nanodegree em Análise de Dados do Udacity\n",
    "*José Lacerda - 17/10/2016*\n",
    "\n",
    "**Versão revisada ressubmetida em 18/10/2016** \n",
    "\n",
    "-----"
   ]
  },
  {
   "cell_type": "markdown",
   "metadata": {},
   "source": [
    "Esta análise tem como objetivo verificar o [Efeito Stroop](https://en.wikipedia.org/wiki/Stroop_effect) analisando o tempo de reação de participantes submetidos a um teste padrão. No teste, os participantes são apresentados a dois conjuntos de palavras: um **congruente**, em que as cores das palavras correspondem aos seus respectivos nomes, e um **incongruente**, com palavras cujos nomes diferem das cores em que são apresentadas. Em ambos os casos, os participantes devem dizer em voz alta os nomes das cores das palavras, e não as palavras em si. \n",
    "\n",
    "O documento é dividido em cinco tópicos que buscam responder às questões levantadas no detelhamento do projeto de Estatística do [Nanodegree Analista de Dados](https://br.udacity.com/course/data-analyst-nanodegree--nd002/) do Udacity. A sexta questão (opcional) está comentada ao longo deste documento.\n",
    "\n",
    "Para a elaboração e cálculos estatísticos é utilizada a ferramenta **Jupyter Notebook** com as bibliotecas `pandas` e `numpy`. "
   ]
  },
  {
   "cell_type": "markdown",
   "metadata": {},
   "source": [
    "## 1 - Variáveis do estudo\n",
    "\n",
    "A **variável independente** do estudo é o tipo de conjunto de palavras, que pode ser congruente ou incongruente.\n",
    "A **variável dependente** é o tempo, em segundos, que o participante do estudo leva para falar o nome das cores das palavras presentes no conjunto."
   ]
  },
  {
   "cell_type": "markdown",
   "metadata": {},
   "source": [
    "## 2 - Hipótese a ser verificada\n",
    "\n",
    "Queremos verificar o efeito da interferência no tempo de reação de uma determinada tarefa, conforme analisado pelo pesquisador J. Ridley Stroop em seu [famoso experimento](http://psychclassics.yorku.ca/Stroop/), publicado em 1935. Segundo Stroop, a interferência contribui negativamente para a execução da tarefa, causando tempos de reação mais longos e maior ocorrência de erros.\n",
    "\n",
    "Logo, a hipótese é a de que os tempos de reação para as tarefas congruentes serão **significativamente** menores do que para as tarefas incongruentes. Assim, sendo $\\mu_c$ a média dos tempos para o conjunto congruente e $\\mu_i$ a média dos tempos para o conjunto incongruente, temos:\n",
    "\n",
    "<br>\n",
    "$$ H_0: \\mu_c \\geq \\mu_i $$\n",
    "$$ H_a: \\mu_c < \\mu_i $$\n",
    "\n",
    "Ou então:\n",
    "\n",
    "$$ H_0: \\mu_c - \\mu_i \\geq 0 $$\n",
    "$$ H_a: \\mu_c - \\mu_i < 0 $$\n",
    "\n",
    "Como o mesmo grupo de pessoas é submetido aos dois conjuntos de palavras, iremos aplicar o **teste-t dependente para amostras pareadas para duas condições**. Também adotaremos um **nível de significância de 0.05 (5%)**."
   ]
  },
  {
   "cell_type": "markdown",
   "metadata": {},
   "source": [
    "## 3 - Importando e explorando os dados\n",
    "\n",
    "Os dados do experimento estão no arquivo `stroopdata.csv`. Vamos importar e explorar um pouco."
   ]
  },
  {
   "cell_type": "code",
   "execution_count": 1,
   "metadata": {
    "collapsed": false
   },
   "outputs": [
    {
     "data": {
      "text/html": [
       "<div>\n",
       "<table border=\"1\" class=\"dataframe\">\n",
       "  <thead>\n",
       "    <tr style=\"text-align: right;\">\n",
       "      <th></th>\n",
       "      <th>Congruent</th>\n",
       "      <th>Incongruent</th>\n",
       "    </tr>\n",
       "  </thead>\n",
       "  <tbody>\n",
       "    <tr>\n",
       "      <th>0</th>\n",
       "      <td>12.079</td>\n",
       "      <td>19.278</td>\n",
       "    </tr>\n",
       "    <tr>\n",
       "      <th>1</th>\n",
       "      <td>16.791</td>\n",
       "      <td>18.741</td>\n",
       "    </tr>\n",
       "    <tr>\n",
       "      <th>2</th>\n",
       "      <td>9.564</td>\n",
       "      <td>21.214</td>\n",
       "    </tr>\n",
       "    <tr>\n",
       "      <th>3</th>\n",
       "      <td>8.630</td>\n",
       "      <td>15.687</td>\n",
       "    </tr>\n",
       "    <tr>\n",
       "      <th>4</th>\n",
       "      <td>14.669</td>\n",
       "      <td>22.803</td>\n",
       "    </tr>\n",
       "  </tbody>\n",
       "</table>\n",
       "</div>"
      ],
      "text/plain": [
       "   Congruent  Incongruent\n",
       "0     12.079       19.278\n",
       "1     16.791       18.741\n",
       "2      9.564       21.214\n",
       "3      8.630       15.687\n",
       "4     14.669       22.803"
      ]
     },
     "execution_count": 1,
     "metadata": {},
     "output_type": "execute_result"
    }
   ],
   "source": [
    "%matplotlib inline\n",
    "import pandas as pd\n",
    "import numpy as np\n",
    "\n",
    "data = pd.read_csv('stroopdata.csv')\n",
    "data.head()"
   ]
  },
  {
   "cell_type": "markdown",
   "metadata": {},
   "source": [
    "Cada linha da tabela representa um participante do experimento.\n",
    "\n",
    "**Qual o tamanho da nossa amostra, ou seja, qual o nosso \"n\"?**"
   ]
  },
  {
   "cell_type": "code",
   "execution_count": 2,
   "metadata": {
    "collapsed": false
   },
   "outputs": [
    {
     "data": {
      "text/plain": [
       "24"
      ]
     },
     "execution_count": 2,
     "metadata": {},
     "output_type": "execute_result"
    }
   ],
   "source": [
    "n = len(data)\n",
    "n"
   ]
  },
  {
   "cell_type": "markdown",
   "metadata": {},
   "source": [
    "Como queremos analisar as diferenças entre os tempos das tarefas, vamos criar uma nova coluna na tabela com esses valores:"
   ]
  },
  {
   "cell_type": "code",
   "execution_count": 3,
   "metadata": {
    "collapsed": false
   },
   "outputs": [
    {
     "data": {
      "text/html": [
       "<div>\n",
       "<table border=\"1\" class=\"dataframe\">\n",
       "  <thead>\n",
       "    <tr style=\"text-align: right;\">\n",
       "      <th></th>\n",
       "      <th>Congruent</th>\n",
       "      <th>Incongruent</th>\n",
       "      <th>Diff</th>\n",
       "    </tr>\n",
       "  </thead>\n",
       "  <tbody>\n",
       "    <tr>\n",
       "      <th>0</th>\n",
       "      <td>12.079</td>\n",
       "      <td>19.278</td>\n",
       "      <td>-7.199</td>\n",
       "    </tr>\n",
       "    <tr>\n",
       "      <th>1</th>\n",
       "      <td>16.791</td>\n",
       "      <td>18.741</td>\n",
       "      <td>-1.950</td>\n",
       "    </tr>\n",
       "    <tr>\n",
       "      <th>2</th>\n",
       "      <td>9.564</td>\n",
       "      <td>21.214</td>\n",
       "      <td>-11.650</td>\n",
       "    </tr>\n",
       "    <tr>\n",
       "      <th>3</th>\n",
       "      <td>8.630</td>\n",
       "      <td>15.687</td>\n",
       "      <td>-7.057</td>\n",
       "    </tr>\n",
       "    <tr>\n",
       "      <th>4</th>\n",
       "      <td>14.669</td>\n",
       "      <td>22.803</td>\n",
       "      <td>-8.134</td>\n",
       "    </tr>\n",
       "  </tbody>\n",
       "</table>\n",
       "</div>"
      ],
      "text/plain": [
       "   Congruent  Incongruent    Diff\n",
       "0     12.079       19.278  -7.199\n",
       "1     16.791       18.741  -1.950\n",
       "2      9.564       21.214 -11.650\n",
       "3      8.630       15.687  -7.057\n",
       "4     14.669       22.803  -8.134"
      ]
     },
     "execution_count": 3,
     "metadata": {},
     "output_type": "execute_result"
    }
   ],
   "source": [
    "data['Diff'] = data['Congruent'] - data['Incongruent']\n",
    "data.head()"
   ]
  },
  {
   "cell_type": "markdown",
   "metadata": {},
   "source": [
    "Agora, vamos levantar uma **medida de tendência central (média)**..."
   ]
  },
  {
   "cell_type": "code",
   "execution_count": 4,
   "metadata": {
    "collapsed": false
   },
   "outputs": [
    {
     "data": {
      "text/plain": [
       "-7.964791666666667"
      ]
     },
     "execution_count": 4,
     "metadata": {},
     "output_type": "execute_result"
    }
   ],
   "source": [
    "media = data['Diff'].mean()\n",
    "media"
   ]
  },
  {
   "cell_type": "markdown",
   "metadata": {},
   "source": [
    " ...e uma **medida de variabilidade (desvio padrão)**:"
   ]
  },
  {
   "cell_type": "code",
   "execution_count": 5,
   "metadata": {
    "collapsed": false
   },
   "outputs": [
    {
     "data": {
      "text/plain": [
       "4.864826910359056"
      ]
     },
     "execution_count": 5,
     "metadata": {},
     "output_type": "execute_result"
    }
   ],
   "source": [
    "desvio_padrao = data['Diff'].std()\n",
    "desvio_padrao"
   ]
  },
  {
   "cell_type": "markdown",
   "metadata": {},
   "source": [
    "## 4 - Visualizando a distribuição da amostra\n",
    "\n",
    "Vamos gerar três histogramas para visualizar a distribuição da amostra. Os dois primeiros para os resultados dos testes congruentes e incongruentes, e um terceiro para a diferença nos tempos observados. Dada a quantidade da nossa amostra, vamos estabelecer o número de classes (bins) em 5."
   ]
  },
  {
   "cell_type": "code",
   "execution_count": 6,
   "metadata": {
    "collapsed": false
   },
   "outputs": [
    {
     "data": {
      "image/png": "[encoded data removed]",
      "text/plain": [
       "<matplotlib.figure.Figure at 0x7f9d60ba9e10>"
      ]
     },
     "metadata": {},
     "output_type": "display_data"
    }
   ],
   "source": [
    "import matplotlib.pyplot as plt\n",
    "\n",
    "fig, axes = plt.subplots(nrows=1, ncols=3, figsize=(20, 5))\n",
    "ax0, ax1, ax2 = axes.flat\n",
    "\n",
    "ax0.hist(data['Congruent'], bins=5)\n",
    "ax0.set_title('Distribuição para o teste congruente')\n",
    "\n",
    "ax1.hist(data['Incongruent'], bins=5)\n",
    "ax1.set_title('Distribuição para o teste incongruente')\n",
    "\n",
    "ax2.hist(data['Diff'], bins=5)\n",
    "ax2.set_title('Distribuição das diferenças')\n",
    "\n",
    "plt.show()"
   ]
  },
  {
   "cell_type": "markdown",
   "metadata": {},
   "source": [
    "Com base nas visualizações, não é possível afirmar que se tratam de distribuições normais. Talvez isto se deva à quantidade reduzida da amostra. Nos dois primeiros histogramas nota-se uma distribuição **positivamente inclinada**, ao passo que na distribuição das diferenças a distribuição parece **negativamente inclinada**."
   ]
  },
  {
   "cell_type": "markdown",
   "metadata": {},
   "source": [
    "## 5 - Teste estatístico e resultados\n",
    "\n",
    "Sabemos que a fórmula para a estatística t é:\n",
    "\n",
    "## $$t = \\frac{\\mu_c - \\mu_i}{\\frac{s}{\\sqrt{n}}}$$\n",
    "\n",
    "Sabemos também que a diferença das médias $\\mu_c - \\mu_i$ é igual à média das diferenças já calculada. Então podemos calcular t substituindo os valores na fórmula."
   ]
  },
  {
   "cell_type": "code",
   "execution_count": 7,
   "metadata": {
    "collapsed": false
   },
   "outputs": [
    {
     "data": {
      "text/plain": [
       "-8.020706944109957"
      ]
     },
     "execution_count": 7,
     "metadata": {},
     "output_type": "execute_result"
    }
   ],
   "source": [
    "t = media/(desvio_padrao/np.sqrt(n))\n",
    "t"
   ]
  },
  {
   "cell_type": "markdown",
   "metadata": {},
   "source": [
    "Adotamos o nível de significância de 0,05. E como nossa hipótese representa uma inequação (valor inferior a zero), a hipótese **é monocaudal**.\n",
    "\n",
    "Sabemos que **n = 24**, logo temos **24 - 1 = 23** graus de liberdade.\n",
    "\n",
    "Vamos utilizar a [Tabela-t](https://s3.amazonaws.com/udacity-hosted-downloads/t-table.jpg) para verificar o valor crítico de t, buscando a linha correspondente a 23 graus de liberdade e a coluna representando nosso valor-*p* de .05.\n",
    "\n",
    "O valor crítico é **(+-) 1.714**. E, ainda segundo a tabela, nosso **nível de confiança é de 95%**.\n",
    "\n",
    "Ou seja, nossa estatística t é bem inferior ao valor crítico. **Logo, podemos rejeitar a hipótese nula e considerar que existe uma diferença significativa no resultado dos testes congruentes e incongruentes**.\n",
    "\n",
    "Ressalta-se que este resultado está alinhado com os experimentos originais feitos por Stroop, demonstrando o efeito da interferência no tempo de execução de uma tarefa."
   ]
  }
 ],
 "metadata": {
  "kernelspec": {
   "display_name": "Python 3",
   "language": "python",
   "name": "python3"
  },
  "language_info": {
   "codemirror_mode": {
    "name": "ipython",
    "version": 3
   },
   "file_extension": ".py",
   "mimetype": "text/x-python",
   "name": "python",
   "nbconvert_exporter": "python",
   "pygments_lexer": "ipython3",
   "version": "3.5.1"
  }
 },
 "nbformat": 4,
 "nbformat_minor": 0
}
