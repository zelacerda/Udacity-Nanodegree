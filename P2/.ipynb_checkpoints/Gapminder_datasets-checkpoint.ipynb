{
 "cells": [
  {
   "cell_type": "markdown",
   "metadata": {},
   "source": [
    "## Exploring Gapminder datasets"
   ]
  },
  {
   "cell_type": "code",
   "execution_count": 1,
   "metadata": {
    "collapsed": true
   },
   "outputs": [],
   "source": [
    "import numpy as np\n",
    "import pandas as pd"
   ]
  },
  {
   "cell_type": "code",
   "execution_count": 2,
   "metadata": {
    "collapsed": false
   },
   "outputs": [
    {
     "name": "stdout",
     "output_type": "stream",
     "text": [
      "employment_above_15.csv     life_expectancy.csv       Untitled.ipynb\r\n",
      "female_completion_rate.csv  male_completion_rate.csv\r\n",
      "gdp_per_capita.csv\t    table_descriptions.txt\r\n"
     ]
    }
   ],
   "source": [
    "!ls"
   ]
  },
  {
   "cell_type": "code",
   "execution_count": 20,
   "metadata": {
    "collapsed": false
   },
   "outputs": [
    {
     "data": {
      "text/plain": [
       "1991    56.099998\n",
       "1992    59.500000\n",
       "1993    60.099998\n",
       "1994    60.599998\n",
       "1995    61.099998\n",
       "1996    60.400002\n",
       "1997    60.700001\n",
       "1998    60.500000\n",
       "1999    60.700001\n",
       "2000    61.200001\n",
       "2001    61.500000\n",
       "2002    62.400002\n",
       "2003    62.000000\n",
       "2004    63.299999\n",
       "2005    63.200001\n",
       "2006    64.000000\n",
       "2007    64.500000\n",
       "Name: Brazil, dtype: float64"
      ]
     },
     "execution_count": 20,
     "metadata": {},
     "output_type": "execute_result"
    }
   ],
   "source": [
    "sr = pd.read_csv('employment_above_15.csv', index_col='Country')\n",
    "sr.loc['Brazil']"
   ]
  },
  {
   "cell_type": "code",
   "execution_count": 23,
   "metadata": {
    "collapsed": false
   },
   "outputs": [
    {
     "data": {
      "text/html": [
       "<div>\n",
       "<table border=\"1\" class=\"dataframe\">\n",
       "  <thead>\n",
       "    <tr style=\"text-align: right;\">\n",
       "      <th></th>\n",
       "      <th>Country</th>\n",
       "      <th>1800</th>\n",
       "      <th>1801</th>\n",
       "      <th>1802</th>\n",
       "      <th>1803</th>\n",
       "      <th>1804</th>\n",
       "      <th>1805</th>\n",
       "      <th>1806</th>\n",
       "      <th>1807</th>\n",
       "      <th>1808</th>\n",
       "      <th>...</th>\n",
       "      <th>2004</th>\n",
       "      <th>2005</th>\n",
       "      <th>2006</th>\n",
       "      <th>2007</th>\n",
       "      <th>2008</th>\n",
       "      <th>2009</th>\n",
       "      <th>2010</th>\n",
       "      <th>2011</th>\n",
       "      <th>2012</th>\n",
       "      <th>2013</th>\n",
       "    </tr>\n",
       "  </thead>\n",
       "  <tbody>\n",
       "    <tr>\n",
       "      <th>0</th>\n",
       "      <td>Afghanistan</td>\n",
       "      <td>28.2110</td>\n",
       "      <td>28.200753</td>\n",
       "      <td>28.190507</td>\n",
       "      <td>28.18026</td>\n",
       "      <td>28.170013</td>\n",
       "      <td>28.159767</td>\n",
       "      <td>28.14952</td>\n",
       "      <td>28.139273</td>\n",
       "      <td>28.129027</td>\n",
       "      <td>...</td>\n",
       "      <td>52.5</td>\n",
       "      <td>52.9</td>\n",
       "      <td>53.2</td>\n",
       "      <td>53.6</td>\n",
       "      <td>54.0</td>\n",
       "      <td>54.5</td>\n",
       "      <td>54.8</td>\n",
       "      <td>55.2</td>\n",
       "      <td>55.5</td>\n",
       "      <td>56.2</td>\n",
       "    </tr>\n",
       "    <tr>\n",
       "      <th>1</th>\n",
       "      <td>Albania</td>\n",
       "      <td>35.4000</td>\n",
       "      <td>35.400000</td>\n",
       "      <td>35.400000</td>\n",
       "      <td>35.40000</td>\n",
       "      <td>35.400000</td>\n",
       "      <td>35.400000</td>\n",
       "      <td>35.40000</td>\n",
       "      <td>35.400000</td>\n",
       "      <td>35.400000</td>\n",
       "      <td>...</td>\n",
       "      <td>74.4</td>\n",
       "      <td>74.4</td>\n",
       "      <td>74.5</td>\n",
       "      <td>74.7</td>\n",
       "      <td>74.9</td>\n",
       "      <td>75.0</td>\n",
       "      <td>75.2</td>\n",
       "      <td>75.5</td>\n",
       "      <td>75.7</td>\n",
       "      <td>75.8</td>\n",
       "    </tr>\n",
       "    <tr>\n",
       "      <th>2</th>\n",
       "      <td>Algeria</td>\n",
       "      <td>28.8224</td>\n",
       "      <td>28.822400</td>\n",
       "      <td>28.822400</td>\n",
       "      <td>28.82240</td>\n",
       "      <td>28.822400</td>\n",
       "      <td>28.822400</td>\n",
       "      <td>28.82240</td>\n",
       "      <td>28.822400</td>\n",
       "      <td>28.822400</td>\n",
       "      <td>...</td>\n",
       "      <td>74.2</td>\n",
       "      <td>74.5</td>\n",
       "      <td>74.8</td>\n",
       "      <td>75.0</td>\n",
       "      <td>75.3</td>\n",
       "      <td>75.6</td>\n",
       "      <td>75.9</td>\n",
       "      <td>76.1</td>\n",
       "      <td>76.2</td>\n",
       "      <td>76.3</td>\n",
       "    </tr>\n",
       "    <tr>\n",
       "      <th>3</th>\n",
       "      <td>American Samoa</td>\n",
       "      <td>NaN</td>\n",
       "      <td>NaN</td>\n",
       "      <td>NaN</td>\n",
       "      <td>NaN</td>\n",
       "      <td>NaN</td>\n",
       "      <td>NaN</td>\n",
       "      <td>NaN</td>\n",
       "      <td>NaN</td>\n",
       "      <td>NaN</td>\n",
       "      <td>...</td>\n",
       "      <td>NaN</td>\n",
       "      <td>NaN</td>\n",
       "      <td>NaN</td>\n",
       "      <td>NaN</td>\n",
       "      <td>NaN</td>\n",
       "      <td>NaN</td>\n",
       "      <td>NaN</td>\n",
       "      <td>NaN</td>\n",
       "      <td>NaN</td>\n",
       "      <td>NaN</td>\n",
       "    </tr>\n",
       "    <tr>\n",
       "      <th>4</th>\n",
       "      <td>Andorra</td>\n",
       "      <td>NaN</td>\n",
       "      <td>NaN</td>\n",
       "      <td>NaN</td>\n",
       "      <td>NaN</td>\n",
       "      <td>NaN</td>\n",
       "      <td>NaN</td>\n",
       "      <td>NaN</td>\n",
       "      <td>NaN</td>\n",
       "      <td>NaN</td>\n",
       "      <td>...</td>\n",
       "      <td>83.0</td>\n",
       "      <td>83.1</td>\n",
       "      <td>83.2</td>\n",
       "      <td>83.4</td>\n",
       "      <td>83.5</td>\n",
       "      <td>83.6</td>\n",
       "      <td>83.7</td>\n",
       "      <td>83.8</td>\n",
       "      <td>83.8</td>\n",
       "      <td>83.9</td>\n",
       "    </tr>\n",
       "  </tbody>\n",
       "</table>\n",
       "<p>5 rows × 206 columns</p>\n",
       "</div>"
      ],
      "text/plain": [
       "          Country     1800       1801       1802      1803       1804  \\\n",
       "0     Afghanistan  28.2110  28.200753  28.190507  28.18026  28.170013   \n",
       "1         Albania  35.4000  35.400000  35.400000  35.40000  35.400000   \n",
       "2         Algeria  28.8224  28.822400  28.822400  28.82240  28.822400   \n",
       "3  American Samoa      NaN        NaN        NaN       NaN        NaN   \n",
       "4         Andorra      NaN        NaN        NaN       NaN        NaN   \n",
       "\n",
       "        1805      1806       1807       1808  ...   2004  2005  2006  2007  \\\n",
       "0  28.159767  28.14952  28.139273  28.129027  ...   52.5  52.9  53.2  53.6   \n",
       "1  35.400000  35.40000  35.400000  35.400000  ...   74.4  74.4  74.5  74.7   \n",
       "2  28.822400  28.82240  28.822400  28.822400  ...   74.2  74.5  74.8  75.0   \n",
       "3        NaN       NaN        NaN        NaN  ...    NaN   NaN   NaN   NaN   \n",
       "4        NaN       NaN        NaN        NaN  ...   83.0  83.1  83.2  83.4   \n",
       "\n",
       "   2008  2009  2010  2011  2012  2013  \n",
       "0  54.0  54.5  54.8  55.2  55.5  56.2  \n",
       "1  74.9  75.0  75.2  75.5  75.7  75.8  \n",
       "2  75.3  75.6  75.9  76.1  76.2  76.3  \n",
       "3   NaN   NaN   NaN   NaN   NaN   NaN  \n",
       "4  83.5  83.6  83.7  83.8  83.8  83.9  \n",
       "\n",
       "[5 rows x 206 columns]"
      ]
     },
     "execution_count": 23,
     "metadata": {},
     "output_type": "execute_result"
    }
   ],
   "source": [
    "df = pd.read_csv('life_expectancy.csv')\n",
    "df.head()"
   ]
  },
  {
   "cell_type": "code",
   "execution_count": 24,
   "metadata": {
    "collapsed": false
   },
   "outputs": [
    {
     "data": {
      "text/html": [
       "<div>\n",
       "<table border=\"1\" class=\"dataframe\">\n",
       "  <thead>\n",
       "    <tr style=\"text-align: right;\">\n",
       "      <th></th>\n",
       "      <th>Country</th>\n",
       "      <th>1800</th>\n",
       "      <th>1801</th>\n",
       "      <th>1802</th>\n",
       "      <th>1803</th>\n",
       "      <th>1804</th>\n",
       "      <th>1805</th>\n",
       "      <th>1806</th>\n",
       "      <th>1807</th>\n",
       "      <th>1808</th>\n",
       "      <th>...</th>\n",
       "      <th>2004</th>\n",
       "      <th>2005</th>\n",
       "      <th>2006</th>\n",
       "      <th>2007</th>\n",
       "      <th>2008</th>\n",
       "      <th>2009</th>\n",
       "      <th>2010</th>\n",
       "      <th>2011</th>\n",
       "      <th>2012</th>\n",
       "      <th>2013</th>\n",
       "    </tr>\n",
       "  </thead>\n",
       "  <tbody>\n",
       "    <tr>\n",
       "      <th>4</th>\n",
       "      <td>Andorra</td>\n",
       "      <td>NaN</td>\n",
       "      <td>NaN</td>\n",
       "      <td>NaN</td>\n",
       "      <td>NaN</td>\n",
       "      <td>NaN</td>\n",
       "      <td>NaN</td>\n",
       "      <td>NaN</td>\n",
       "      <td>NaN</td>\n",
       "      <td>NaN</td>\n",
       "      <td>...</td>\n",
       "      <td>83.0</td>\n",
       "      <td>83.1</td>\n",
       "      <td>83.2</td>\n",
       "      <td>83.4</td>\n",
       "      <td>83.5</td>\n",
       "      <td>83.6</td>\n",
       "      <td>83.7</td>\n",
       "      <td>83.8</td>\n",
       "      <td>83.8</td>\n",
       "      <td>83.9</td>\n",
       "    </tr>\n",
       "  </tbody>\n",
       "</table>\n",
       "<p>1 rows × 206 columns</p>\n",
       "</div>"
      ],
      "text/plain": [
       "   Country  1800  1801  1802  1803  1804  1805  1806  1807  1808  ...   2004  \\\n",
       "4  Andorra   NaN   NaN   NaN   NaN   NaN   NaN   NaN   NaN   NaN  ...   83.0   \n",
       "\n",
       "   2005  2006  2007  2008  2009  2010  2011  2012  2013  \n",
       "4  83.1  83.2  83.4  83.5  83.6  83.7  83.8  83.8  83.9  \n",
       "\n",
       "[1 rows x 206 columns]"
      ]
     },
     "execution_count": 24,
     "metadata": {},
     "output_type": "execute_result"
    }
   ],
   "source": [
    "# Country with highest life expectancy by 2013\n",
    "\n",
    "df[df['2013'] == np.max(df['2013'])]"
   ]
  },
  {
   "cell_type": "code",
   "execution_count": 25,
   "metadata": {
    "collapsed": false
   },
   "outputs": [
    {
     "data": {
      "text/html": [
       "<div>\n",
       "<table border=\"1\" class=\"dataframe\">\n",
       "  <thead>\n",
       "    <tr style=\"text-align: right;\">\n",
       "      <th></th>\n",
       "      <th>Country</th>\n",
       "      <th>1800</th>\n",
       "      <th>1801</th>\n",
       "      <th>1802</th>\n",
       "      <th>1803</th>\n",
       "      <th>1804</th>\n",
       "      <th>1805</th>\n",
       "      <th>1806</th>\n",
       "      <th>1807</th>\n",
       "      <th>1808</th>\n",
       "      <th>...</th>\n",
       "      <th>2004</th>\n",
       "      <th>2005</th>\n",
       "      <th>2006</th>\n",
       "      <th>2007</th>\n",
       "      <th>2008</th>\n",
       "      <th>2009</th>\n",
       "      <th>2010</th>\n",
       "      <th>2011</th>\n",
       "      <th>2012</th>\n",
       "      <th>2013</th>\n",
       "    </tr>\n",
       "  </thead>\n",
       "  <tbody>\n",
       "    <tr>\n",
       "      <th>119</th>\n",
       "      <td>Lesotho</td>\n",
       "      <td>32.8</td>\n",
       "      <td>32.8</td>\n",
       "      <td>32.8</td>\n",
       "      <td>32.8</td>\n",
       "      <td>32.8</td>\n",
       "      <td>32.8</td>\n",
       "      <td>32.8</td>\n",
       "      <td>32.8</td>\n",
       "      <td>32.8</td>\n",
       "      <td>...</td>\n",
       "      <td>44.8</td>\n",
       "      <td>44.1</td>\n",
       "      <td>44.0</td>\n",
       "      <td>44.4</td>\n",
       "      <td>45.2</td>\n",
       "      <td>46.3</td>\n",
       "      <td>47.4</td>\n",
       "      <td>48.3</td>\n",
       "      <td>48.2</td>\n",
       "      <td>48.3</td>\n",
       "    </tr>\n",
       "  </tbody>\n",
       "</table>\n",
       "<p>1 rows × 206 columns</p>\n",
       "</div>"
      ],
      "text/plain": [
       "     Country  1800  1801  1802  1803  1804  1805  1806  1807  1808  ...   \\\n",
       "119  Lesotho  32.8  32.8  32.8  32.8  32.8  32.8  32.8  32.8  32.8  ...    \n",
       "\n",
       "     2004  2005  2006  2007  2008  2009  2010  2011  2012  2013  \n",
       "119  44.8  44.1  44.0  44.4  45.2  46.3  47.4  48.3  48.2  48.3  \n",
       "\n",
       "[1 rows x 206 columns]"
      ]
     },
     "execution_count": 25,
     "metadata": {},
     "output_type": "execute_result"
    }
   ],
   "source": [
    "# Country with less relative improvement in life expectancy between 1998 and 2013\n",
    "\n",
    "df[(df['2013'] - df['1998'])/df['1998'] == min((df['2013'] - df['1998'])/df['1998'])]"
   ]
  }
 ],
 "metadata": {
  "anaconda-cloud": {},
  "kernelspec": {
   "display_name": "Python [Root]",
   "language": "python",
   "name": "Python [Root]"
  },
  "language_info": {
   "codemirror_mode": {
    "name": "ipython",
    "version": 3
   },
   "file_extension": ".py",
   "mimetype": "text/x-python",
   "name": "python",
   "nbconvert_exporter": "python",
   "pygments_lexer": "ipython3",
   "version": "3.5.2"
  }
 },
 "nbformat": 4,
 "nbformat_minor": 0
}
